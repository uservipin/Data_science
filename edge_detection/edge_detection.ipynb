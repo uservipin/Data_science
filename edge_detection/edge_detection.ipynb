{
 "cells": [
  {
   "cell_type": "code",
   "execution_count": 5,
   "metadata": {},
   "outputs": [
    {
     "name": "stdout",
     "output_type": "stream",
     "text": [
      "Requirement already satisfied: opencv-python in c:\\users\\ai\\.conda\\envs\\tf-gpu\\lib\\site-packages (4.5.5.62)\n",
      "Requirement already satisfied: numpy>=1.14.5 in c:\\users\\ai\\.conda\\envs\\tf-gpu\\lib\\site-packages (from opencv-python) (1.21.2)\n"
     ]
    }
   ],
   "source": [
    "! pip install opencv-python"
   ]
  },
  {
   "cell_type": "code",
   "execution_count": 6,
   "metadata": {},
   "outputs": [],
   "source": [
    "import cv2 \n",
    "import numpy as np\n"
   ]
  },
  {
   "cell_type": "code",
   "execution_count": 7,
   "metadata": {},
   "outputs": [],
   "source": [
    "image_names = cv2.imread('lena.jpg')\n",
    "cv2.imshow(\"image\",image_names)\n",
    "# cv2.waitKey(0)\n",
    "\n",
    "# # Gray scale\n",
    "# gray = cv2.cvtColor(image_names,cv2.COLOR_BGR2RGB)\n",
    "\n",
    "# # find canny edges\n",
    "\n",
    "# edges = cv2.Canny(gray,30,200)\n",
    "\n",
    "# cv2.waitKey(0)\n",
    "\n",
    "\n",
    "# cv2.waitKey(0)\n",
    "# cv2.destroyWindows()"
   ]
  }
 ],
 "metadata": {
  "interpreter": {
   "hash": "d92dd643b93dd70c49200ac4ce4dd0b743f0d2f5c61f81f5b3d4fd8182517c38"
  },
  "kernelspec": {
   "display_name": "Python 3.9.7 64-bit ('tf-gpu': conda)",
   "language": "python",
   "name": "python3"
  },
  "language_info": {
   "codemirror_mode": {
    "name": "ipython",
    "version": 3
   },
   "file_extension": ".py",
   "mimetype": "text/x-python",
   "name": "python",
   "nbconvert_exporter": "python",
   "pygments_lexer": "ipython3",
   "version": "3.9.7"
  },
  "orig_nbformat": 4
 },
 "nbformat": 4,
 "nbformat_minor": 2
}
